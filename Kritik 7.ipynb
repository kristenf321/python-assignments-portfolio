{
 "cells": [
  {
   "cell_type": "code",
   "execution_count": 19,
   "id": "566d3483-18fa-4843-8183-0abeda2a68e5",
   "metadata": {},
   "outputs": [
    {
     "name": "stdout",
     "output_type": "stream",
     "text": [
      "the average of the test scores: 82.382\n",
      "the standard deviation of the test scores is: 10.193467189005581\n",
      "the value of t naught is: 2.290087686017293\n",
      "the value for t star is: 2.2522252225222523\n",
      "is t naught on the interval [-t star,t star]? False\n"
     ]
    }
   ],
   "source": [
    "\n",
    "import numpy as np\n",
    "from scipy.special import gamma\n",
    "\n",
    "#putting test scores in a list\n",
    "test_scores = [92.64,79.00,84.79,97.41,93.68,65.23,84.50,73.49,73.97,79.11]\n",
    "\n",
    "#finding average of the test scores \n",
    "def average(listofvalues):\n",
    "    total=0 #start at 0th position\n",
    "    n=len(listofvalues) #count number of values in list \n",
    "    for i in listofvalues:\n",
    "        total+=i #keep adding position to 0\n",
    "    return total/n  #average is the total divide by n(How many items in list there are)\n",
    "#print what the average of the test scores is \n",
    "print(f'the average of the test scores: {average(test_scores)}')\n",
    "\n",
    "def stdv(listofvalues):\n",
    "    x_bar = average(listofvalues) #defining x_bar\n",
    "    summation=0\n",
    "    n=len(listofvalues) #finding n(how many values in list there are)\n",
    "    for i in listofvalues:\n",
    "        summation+=(i-x_bar)**2 #from standard deviation formula\n",
    "    return np.sqrt((1/(n-1))*summation)\n",
    "print(f'the standard deviation of the test scores is: {stdv(test_scores)}')\n",
    "\n",
    "\n",
    "\n",
    "def tnaught(listofvalues):\n",
    "    #defining known variables\n",
    "    x_bar= average(listofvalues) \n",
    "    stdev=stdv(listofvalues)\n",
    "    n=10\n",
    "    mu_naught=75\n",
    "    t_naught= (x_bar-mu_naught)/(stdev/np.sqrt(n)) #formula for finding t naught given \n",
    "    return t_naught\n",
    "t_naught=(tnaught(test_scores))\n",
    "print(f'the value of t naught is: {tnaught(test_scores)}')\n",
    "\n",
    "\n",
    "#code given from greg\n",
    "def t_distribution_pdf(x, nu):\n",
    "    coeff = gamma((nu + 1) / 2) / (np.sqrt(nu * np.pi) * gamma(nu / 2))\n",
    "    density = coeff * (1 + x**2 / nu) ** (-0.5 * (nu + 1))\n",
    "    return density\n",
    "\n",
    "#defining n and nu\n",
    "n=10\n",
    "nu=n-1\n",
    "\n",
    "#code given from greg\n",
    "def find_t_star(prob, nu, x_start=0, x_end=20, num_points=10000):\n",
    "# Define the x values\n",
    "    x = np.linspace(x_start, x_end, num_points)\n",
    "# Apply the density function to the x values\n",
    "    y = t_distribution_pdf(x, nu)\n",
    "# This next line is the integration (exercise: why does this work?)\n",
    "    cdf = np.cumsum(y) * (x[1] - x[0])\n",
    "# Find the t-value where the cumulative probability reaches half of the required probability\n",
    "    target_half_prob = prob / 2\n",
    "    index = np.where(cdf >= target_half_prob)[0][0]\n",
    "    return x[index]\n",
    "print(f'the value for t star is: {find_t_star(0.95,nu,x_start=0,x_end=20,num_points=10000)}')\n",
    "t_star=(find_t_star(0.95,nu,x_start=0,x_end=20,num_points=10000))\n",
    "\n",
    "#use boolean true or false to determine if t naught is on the interval\n",
    "def comparison(t_star,t_naught):\n",
    "    return -t_star <= t_naught <= t_star\n",
    "print(f'is t naught on the interval [-t star,t star]? {comparison(t_star,t_naught)}')\n"
   ]
  },
  {
   "cell_type": "code",
   "execution_count": null,
   "id": "3b66ae88-24ef-4535-b091-1161e0c2fe39",
   "metadata": {},
   "outputs": [],
   "source": []
  }
 ],
 "metadata": {
  "kernelspec": {
   "display_name": "Python 3 (ipykernel)",
   "language": "python",
   "name": "python3"
  },
  "language_info": {
   "codemirror_mode": {
    "name": "ipython",
    "version": 3
   },
   "file_extension": ".py",
   "mimetype": "text/x-python",
   "name": "python",
   "nbconvert_exporter": "python",
   "pygments_lexer": "ipython3",
   "version": "3.11.4"
  }
 },
 "nbformat": 4,
 "nbformat_minor": 5
}
